{
  "nbformat": 4,
  "nbformat_minor": 0,
  "metadata": {
    "accelerator": "GPU",
    "colab": {
      "name": "NLP_Week4_Exercise_Shakespeare_Answer.ipynb",
      "provenance": []
    },
    "kernelspec": {
      "display_name": "Python 3",
      "name": "python3"
    }
  },
  "cells": [
    {
      "cell_type": "code",
      "metadata": {
        "id": "zX4Kg8DUTKWO",
        "colab_type": "code",
        "colab": {}
      },
      "source": [
        "#@title Licensed under the Apache License, Version 2.0 (the \"License\");\n",
        "# you may not use this file except in compliance with the License.\n",
        "# You may obtain a copy of the License at\n",
        "#\n",
        "# https://www.apache.org/licenses/LICENSE-2.0\n",
        "#\n",
        "# Unless required by applicable law or agreed to in writing, software\n",
        "# distributed under the License is distributed on an \"AS IS\" BASIS,\n",
        "# WITHOUT WARRANTIES OR CONDITIONS OF ANY KIND, either express or implied.\n",
        "# See the License for the specific language governing permissions and\n",
        "# limitations under the License."
      ],
      "execution_count": 0,
      "outputs": []
    },
    {
      "cell_type": "code",
      "metadata": {
        "colab_type": "code",
        "id": "BOwsuGQQY9OL",
        "colab": {}
      },
      "source": [
        "from tensorflow.keras.preprocessing.sequence import pad_sequences\n",
        "from tensorflow.keras.layers import Embedding, LSTM, Dense, Dropout, Bidirectional\n",
        "from tensorflow.keras.preprocessing.text import Tokenizer\n",
        "from tensorflow.keras.models import Sequential\n",
        "from tensorflow.keras.optimizers import Adam\n",
        "from tensorflow.keras import regularizers\n",
        "import tensorflow.keras.utils as ku \n",
        "import numpy as np "
      ],
      "execution_count": 0,
      "outputs": []
    },
    {
      "cell_type": "code",
      "metadata": {
        "colab_type": "code",
        "id": "PRnDnCW-Z7qv",
        "colab": {
          "base_uri": "https://localhost:8080/",
          "height": 213
        },
        "outputId": "e11021b1-f682-4d3c-e52e-93f4bb26ae37"
      },
      "source": [
        "tokenizer = Tokenizer()\n",
        "!wget --no-check-certificate \\\n",
        "    https://storage.googleapis.com/laurencemoroney-blog.appspot.com/sonnets.txt \\\n",
        "    -O /tmp/sonnets.txt\n",
        "data = open('/tmp/eminem.txt').read()\n",
        "data=data.replace(\"(\",\" \")\n",
        "data=data.replace(\")\",\" \")\n",
        "data=data.replace(\"[\",\" \")\n",
        "data=data.replace(\"]\",\" \")\n",
        "\n",
        "\n",
        "\n",
        "corpus = data.lower().split(\"\\n\")\n",
        "\n",
        "\n",
        "\n",
        "tokenizer.fit_on_texts(corpus)\n",
        "total_words = len(tokenizer.word_index) + 1\n",
        "\n",
        "# create input sequences using list of tokens\n",
        "input_sequences = []\n",
        "for line in corpus:\n",
        "\ttoken_list = tokenizer.texts_to_sequences([line])[0]\n",
        "\tfor i in range(1, len(token_list)):\n",
        "\t\tn_gram_sequence = token_list[:i+1]\n",
        "\t\tinput_sequences.append(n_gram_sequence)\n",
        "\n",
        "\n",
        "# pad sequences \n",
        "max_sequence_len = max([len(x) for x in input_sequences])\n",
        "input_sequences = np.array(pad_sequences(input_sequences, maxlen=max_sequence_len, padding='pre'))\n",
        "\n",
        "# create predictors and label\n",
        "predictors, label = input_sequences[:,:-1],input_sequences[:,-1]\n",
        "\n",
        "label = ku.to_categorical(label, num_classes=total_words)"
      ],
      "execution_count": 10,
      "outputs": [
        {
          "output_type": "stream",
          "text": [
            "--2020-06-01 09:01:43--  https://storage.googleapis.com/laurencemoroney-blog.appspot.com/sonnets.txt\n",
            "Resolving storage.googleapis.com (storage.googleapis.com)... 74.125.140.128, 2a00:1450:400c:c00::80\n",
            "Connecting to storage.googleapis.com (storage.googleapis.com)|74.125.140.128|:443... connected.\n",
            "HTTP request sent, awaiting response... 200 OK\n",
            "Length: 93578 (91K) [text/plain]\n",
            "Saving to: ‘/tmp/sonnets.txt’\n",
            "\n",
            "\r/tmp/sonnets.txt      0%[                    ]       0  --.-KB/s               \r/tmp/sonnets.txt    100%[===================>]  91.38K  --.-KB/s    in 0.001s  \n",
            "\n",
            "2020-06-01 09:01:43 (62.2 MB/s) - ‘/tmp/sonnets.txt’ saved [93578/93578]\n",
            "\n"
          ],
          "name": "stdout"
        }
      ]
    },
    {
      "cell_type": "code",
      "metadata": {
        "colab_type": "code",
        "id": "w9vH8Y59ajYL",
        "colab": {
          "base_uri": "https://localhost:8080/",
          "height": 392
        },
        "outputId": "d03068ec-9072-4268-c824-1670222f78db"
      },
      "source": [
        "model = Sequential()\n",
        "model.add(Embedding(total_words, 100, input_length=max_sequence_len-1))\n",
        "model.add(Bidirectional(LSTM(150, return_sequences = True)))\n",
        "model.add(Dropout(0.2))\n",
        "model.add(LSTM(100))\n",
        "model.add(Dense(total_words/2, activation='relu', kernel_regularizer=regularizers.l2(0.01)))\n",
        "model.add(Dense(total_words, activation='softmax'))\n",
        "model.compile(loss='categorical_crossentropy', optimizer='adam', metrics=['accuracy'])\n",
        "print(model.summary())\n"
      ],
      "execution_count": 11,
      "outputs": [
        {
          "output_type": "stream",
          "text": [
            "Model: \"sequential_1\"\n",
            "_________________________________________________________________\n",
            "Layer (type)                 Output Shape              Param #   \n",
            "=================================================================\n",
            "embedding_1 (Embedding)      (None, 32, 100)           611500    \n",
            "_________________________________________________________________\n",
            "bidirectional_1 (Bidirection (None, 32, 300)           301200    \n",
            "_________________________________________________________________\n",
            "dropout_1 (Dropout)          (None, 32, 300)           0         \n",
            "_________________________________________________________________\n",
            "lstm_3 (LSTM)                (None, 100)               160400    \n",
            "_________________________________________________________________\n",
            "dense_2 (Dense)              (None, 3057)              308757    \n",
            "_________________________________________________________________\n",
            "dense_3 (Dense)              (None, 6115)              18699670  \n",
            "=================================================================\n",
            "Total params: 20,081,527\n",
            "Trainable params: 20,081,527\n",
            "Non-trainable params: 0\n",
            "_________________________________________________________________\n",
            "None\n"
          ],
          "name": "stdout"
        }
      ]
    },
    {
      "cell_type": "code",
      "metadata": {
        "colab_type": "code",
        "id": "AIg2f1HBxqof",
        "colab": {
          "base_uri": "https://localhost:8080/",
          "height": 1000
        },
        "outputId": "f55ff6ba-18b0-45ec-b413-dc29f5e15640"
      },
      "source": [
        " history = model.fit(predictors, label, epochs=100, verbose=1)"
      ],
      "execution_count": 12,
      "outputs": [
        {
          "output_type": "stream",
          "text": [
            "Epoch 1/100\n",
            "1814/1814 [==============================] - 103s 57ms/step - loss: 6.5870 - accuracy: 0.0348\n",
            "Epoch 2/100\n",
            "1814/1814 [==============================] - 104s 57ms/step - loss: 6.1457 - accuracy: 0.0395\n",
            "Epoch 3/100\n",
            "1814/1814 [==============================] - 103s 57ms/step - loss: 5.9654 - accuracy: 0.0473\n",
            "Epoch 4/100\n",
            "1814/1814 [==============================] - 104s 57ms/step - loss: 5.8230 - accuracy: 0.0625\n",
            "Epoch 5/100\n",
            "1814/1814 [==============================] - 104s 57ms/step - loss: 5.6913 - accuracy: 0.0748\n",
            "Epoch 6/100\n",
            "1814/1814 [==============================] - 104s 57ms/step - loss: 5.5643 - accuracy: 0.0881\n",
            "Epoch 7/100\n",
            "1814/1814 [==============================] - 103s 57ms/step - loss: 5.4492 - accuracy: 0.0977\n",
            "Epoch 8/100\n",
            "1814/1814 [==============================] - 103s 57ms/step - loss: 5.3325 - accuracy: 0.1073\n",
            "Epoch 9/100\n",
            "1814/1814 [==============================] - 103s 57ms/step - loss: 5.2203 - accuracy: 0.1177\n",
            "Epoch 10/100\n",
            "1814/1814 [==============================] - 103s 57ms/step - loss: 5.1133 - accuracy: 0.1259\n",
            "Epoch 11/100\n",
            "1814/1814 [==============================] - 104s 57ms/step - loss: 5.0102 - accuracy: 0.1344\n",
            "Epoch 12/100\n",
            "1814/1814 [==============================] - 103s 57ms/step - loss: 4.9131 - accuracy: 0.1419\n",
            "Epoch 13/100\n",
            "1814/1814 [==============================] - 103s 57ms/step - loss: 4.8234 - accuracy: 0.1505\n",
            "Epoch 14/100\n",
            "1814/1814 [==============================] - 103s 57ms/step - loss: 4.7345 - accuracy: 0.1591\n",
            "Epoch 15/100\n",
            "1814/1814 [==============================] - 103s 57ms/step - loss: 4.6477 - accuracy: 0.1691\n",
            "Epoch 16/100\n",
            "1814/1814 [==============================] - 103s 57ms/step - loss: 4.5695 - accuracy: 0.1770\n",
            "Epoch 17/100\n",
            "1814/1814 [==============================] - 103s 57ms/step - loss: 4.4942 - accuracy: 0.1882\n",
            "Epoch 18/100\n",
            "1814/1814 [==============================] - 103s 57ms/step - loss: 4.4231 - accuracy: 0.1947\n",
            "Epoch 19/100\n",
            "1814/1814 [==============================] - 102s 56ms/step - loss: 4.3491 - accuracy: 0.2051\n",
            "Epoch 20/100\n",
            "1814/1814 [==============================] - 102s 56ms/step - loss: 4.2819 - accuracy: 0.2124\n",
            "Epoch 21/100\n",
            "1814/1814 [==============================] - 102s 56ms/step - loss: 4.2112 - accuracy: 0.2226\n",
            "Epoch 22/100\n",
            "1814/1814 [==============================] - 102s 56ms/step - loss: 4.1528 - accuracy: 0.2294\n",
            "Epoch 23/100\n",
            "1814/1814 [==============================] - 102s 56ms/step - loss: 4.0897 - accuracy: 0.2377\n",
            "Epoch 24/100\n",
            "1814/1814 [==============================] - 103s 57ms/step - loss: 4.0390 - accuracy: 0.2465\n",
            "Epoch 25/100\n",
            "1814/1814 [==============================] - 102s 56ms/step - loss: 3.9732 - accuracy: 0.2537\n",
            "Epoch 26/100\n",
            "1814/1814 [==============================] - 102s 56ms/step - loss: 3.9118 - accuracy: 0.2662\n",
            "Epoch 27/100\n",
            "1814/1814 [==============================] - 102s 56ms/step - loss: 3.8581 - accuracy: 0.2721\n",
            "Epoch 28/100\n",
            "1814/1814 [==============================] - 102s 56ms/step - loss: 3.8181 - accuracy: 0.2788\n",
            "Epoch 29/100\n",
            "1814/1814 [==============================] - 101s 56ms/step - loss: 3.7485 - accuracy: 0.2873\n",
            "Epoch 30/100\n",
            "1814/1814 [==============================] - 101s 56ms/step - loss: 3.7075 - accuracy: 0.2943\n",
            "Epoch 31/100\n",
            "1814/1814 [==============================] - 102s 56ms/step - loss: 3.6587 - accuracy: 0.3019\n",
            "Epoch 32/100\n",
            "1814/1814 [==============================] - 101s 56ms/step - loss: 3.6128 - accuracy: 0.3107\n",
            "Epoch 33/100\n",
            "1814/1814 [==============================] - 99s 55ms/step - loss: 3.5661 - accuracy: 0.3177\n",
            "Epoch 34/100\n",
            "1814/1814 [==============================] - 100s 55ms/step - loss: 3.5229 - accuracy: 0.3229\n",
            "Epoch 35/100\n",
            "1814/1814 [==============================] - 95s 52ms/step - loss: 3.4771 - accuracy: 0.3324\n",
            "Epoch 36/100\n",
            "1814/1814 [==============================] - 92s 50ms/step - loss: 3.4377 - accuracy: 0.3403\n",
            "Epoch 37/100\n",
            "1814/1814 [==============================] - 90s 50ms/step - loss: 3.3922 - accuracy: 0.3474\n",
            "Epoch 38/100\n",
            "1814/1814 [==============================] - 87s 48ms/step - loss: 3.3525 - accuracy: 0.3538\n",
            "Epoch 39/100\n",
            "1814/1814 [==============================] - 86s 47ms/step - loss: 3.3241 - accuracy: 0.3600\n",
            "Epoch 40/100\n",
            "1814/1814 [==============================] - 86s 47ms/step - loss: 3.2850 - accuracy: 0.3652\n",
            "Epoch 41/100\n",
            "1814/1814 [==============================] - 85s 47ms/step - loss: 3.2467 - accuracy: 0.3719\n",
            "Epoch 42/100\n",
            "1814/1814 [==============================] - 86s 47ms/step - loss: 3.2182 - accuracy: 0.3804\n",
            "Epoch 43/100\n",
            "1814/1814 [==============================] - 87s 48ms/step - loss: 3.1810 - accuracy: 0.3846\n",
            "Epoch 44/100\n",
            "1814/1814 [==============================] - 88s 49ms/step - loss: 3.1572 - accuracy: 0.3896\n",
            "Epoch 45/100\n",
            "1814/1814 [==============================] - 100s 55ms/step - loss: 3.1108 - accuracy: 0.3964\n",
            "Epoch 46/100\n",
            "1814/1814 [==============================] - 104s 57ms/step - loss: 3.0870 - accuracy: 0.4018\n",
            "Epoch 47/100\n",
            "1814/1814 [==============================] - 104s 57ms/step - loss: 3.0540 - accuracy: 0.4087\n",
            "Epoch 48/100\n",
            "1814/1814 [==============================] - 104s 57ms/step - loss: 3.0334 - accuracy: 0.4109\n",
            "Epoch 49/100\n",
            "1814/1814 [==============================] - 101s 56ms/step - loss: 2.9974 - accuracy: 0.4198\n",
            "Epoch 50/100\n",
            "1814/1814 [==============================] - 102s 56ms/step - loss: 2.9691 - accuracy: 0.4251\n",
            "Epoch 51/100\n",
            "1814/1814 [==============================] - 104s 57ms/step - loss: 2.9389 - accuracy: 0.4285\n",
            "Epoch 52/100\n",
            "1814/1814 [==============================] - 104s 57ms/step - loss: 2.9296 - accuracy: 0.4329\n",
            "Epoch 53/100\n",
            "1814/1814 [==============================] - 104s 57ms/step - loss: 2.8842 - accuracy: 0.4382\n",
            "Epoch 54/100\n",
            "1814/1814 [==============================] - 104s 57ms/step - loss: 2.8625 - accuracy: 0.4442\n",
            "Epoch 55/100\n",
            "1814/1814 [==============================] - 104s 57ms/step - loss: 2.8351 - accuracy: 0.4507\n",
            "Epoch 56/100\n",
            "1814/1814 [==============================] - 104s 57ms/step - loss: 2.8124 - accuracy: 0.4506\n",
            "Epoch 57/100\n",
            "1814/1814 [==============================] - 105s 58ms/step - loss: 2.7860 - accuracy: 0.4577\n",
            "Epoch 58/100\n",
            "1814/1814 [==============================] - 105s 58ms/step - loss: 2.7646 - accuracy: 0.4609\n",
            "Epoch 59/100\n",
            "1814/1814 [==============================] - 104s 58ms/step - loss: 2.7481 - accuracy: 0.4649\n",
            "Epoch 60/100\n",
            "1814/1814 [==============================] - 106s 58ms/step - loss: 2.7246 - accuracy: 0.4692\n",
            "Epoch 61/100\n",
            "1814/1814 [==============================] - 104s 57ms/step - loss: 2.6914 - accuracy: 0.4745\n",
            "Epoch 62/100\n",
            "1814/1814 [==============================] - 104s 58ms/step - loss: 2.6794 - accuracy: 0.4784\n",
            "Epoch 63/100\n",
            "1814/1814 [==============================] - 104s 57ms/step - loss: 2.6545 - accuracy: 0.4834\n",
            "Epoch 64/100\n",
            "1814/1814 [==============================] - 104s 57ms/step - loss: 2.6395 - accuracy: 0.4846\n",
            "Epoch 65/100\n",
            "1814/1814 [==============================] - 104s 57ms/step - loss: 2.6077 - accuracy: 0.4888\n",
            "Epoch 66/100\n",
            "1814/1814 [==============================] - 104s 57ms/step - loss: 2.5957 - accuracy: 0.4933\n",
            "Epoch 67/100\n",
            "1814/1814 [==============================] - 101s 56ms/step - loss: 2.5947 - accuracy: 0.4927\n",
            "Epoch 68/100\n",
            "1814/1814 [==============================] - 101s 56ms/step - loss: 2.5584 - accuracy: 0.5006\n",
            "Epoch 69/100\n",
            "1814/1814 [==============================] - 100s 55ms/step - loss: 2.5383 - accuracy: 0.5027\n",
            "Epoch 70/100\n",
            "1814/1814 [==============================] - 101s 55ms/step - loss: 2.5163 - accuracy: 0.5062\n",
            "Epoch 71/100\n",
            "1814/1814 [==============================] - 101s 56ms/step - loss: 2.5099 - accuracy: 0.5071\n",
            "Epoch 72/100\n",
            "1814/1814 [==============================] - 103s 57ms/step - loss: 2.4870 - accuracy: 0.5123\n",
            "Epoch 73/100\n",
            "1814/1814 [==============================] - 104s 57ms/step - loss: 2.4713 - accuracy: 0.5149\n",
            "Epoch 74/100\n",
            "1814/1814 [==============================] - 104s 58ms/step - loss: 2.4619 - accuracy: 0.5182\n",
            "Epoch 75/100\n",
            "1814/1814 [==============================] - 105s 58ms/step - loss: 2.4496 - accuracy: 0.5191\n",
            "Epoch 76/100\n",
            "1814/1814 [==============================] - 105s 58ms/step - loss: 2.4223 - accuracy: 0.5240\n",
            "Epoch 77/100\n",
            "1814/1814 [==============================] - 105s 58ms/step - loss: 2.4047 - accuracy: 0.5275\n",
            "Epoch 78/100\n",
            "1814/1814 [==============================] - 105s 58ms/step - loss: 2.3846 - accuracy: 0.5351\n",
            "Epoch 79/100\n",
            "1814/1814 [==============================] - 104s 57ms/step - loss: 2.3717 - accuracy: 0.5354\n",
            "Epoch 80/100\n",
            "1814/1814 [==============================] - 105s 58ms/step - loss: 2.3615 - accuracy: 0.5371\n",
            "Epoch 81/100\n",
            "1814/1814 [==============================] - 104s 57ms/step - loss: 2.3501 - accuracy: 0.5367\n",
            "Epoch 82/100\n",
            "1814/1814 [==============================] - 104s 57ms/step - loss: 2.3303 - accuracy: 0.5416\n",
            "Epoch 83/100\n",
            "1814/1814 [==============================] - 104s 57ms/step - loss: 2.3159 - accuracy: 0.5447\n",
            "Epoch 84/100\n",
            "1814/1814 [==============================] - 104s 57ms/step - loss: 2.3103 - accuracy: 0.5466\n",
            "Epoch 85/100\n",
            "1814/1814 [==============================] - 104s 57ms/step - loss: 2.3018 - accuracy: 0.5461\n",
            "Epoch 86/100\n",
            "1814/1814 [==============================] - 104s 58ms/step - loss: 2.2886 - accuracy: 0.5498\n",
            "Epoch 87/100\n",
            "1814/1814 [==============================] - 102s 56ms/step - loss: 2.2680 - accuracy: 0.5529\n",
            "Epoch 88/100\n",
            "1814/1814 [==============================] - 101s 56ms/step - loss: 2.2621 - accuracy: 0.5543\n",
            "Epoch 89/100\n",
            "1814/1814 [==============================] - 102s 56ms/step - loss: 2.2392 - accuracy: 0.5597\n",
            "Epoch 90/100\n",
            "1814/1814 [==============================] - 101s 55ms/step - loss: 2.2242 - accuracy: 0.5621\n",
            "Epoch 91/100\n",
            "1814/1814 [==============================] - 99s 55ms/step - loss: 2.2212 - accuracy: 0.5614\n",
            "Epoch 92/100\n",
            "1814/1814 [==============================] - 99s 55ms/step - loss: 2.2045 - accuracy: 0.5665\n",
            "Epoch 93/100\n",
            "1814/1814 [==============================] - 100s 55ms/step - loss: 2.1895 - accuracy: 0.5692\n",
            "Epoch 94/100\n",
            "1814/1814 [==============================] - 100s 55ms/step - loss: 2.1894 - accuracy: 0.5682\n",
            "Epoch 95/100\n",
            "1814/1814 [==============================] - 100s 55ms/step - loss: 2.1765 - accuracy: 0.5703\n",
            "Epoch 96/100\n",
            "1814/1814 [==============================] - 100s 55ms/step - loss: 2.1608 - accuracy: 0.5735\n",
            "Epoch 97/100\n",
            "1814/1814 [==============================] - 98s 54ms/step - loss: 2.1485 - accuracy: 0.5749\n",
            "Epoch 98/100\n",
            "1814/1814 [==============================] - 96s 53ms/step - loss: 2.1429 - accuracy: 0.5764\n",
            "Epoch 99/100\n",
            "1814/1814 [==============================] - 96s 53ms/step - loss: 2.1325 - accuracy: 0.5793\n",
            "Epoch 100/100\n",
            "1814/1814 [==============================] - 96s 53ms/step - loss: 2.1270 - accuracy: 0.5783\n"
          ],
          "name": "stdout"
        }
      ]
    },
    {
      "cell_type": "code",
      "metadata": {
        "colab_type": "code",
        "id": "1fXTEO3GJ282",
        "colab": {
          "base_uri": "https://localhost:8080/",
          "height": 545
        },
        "outputId": "45279219-fe4a-4d9d-c583-2de7443101da"
      },
      "source": [
        "import matplotlib.pyplot as plt\n",
        "acc = history.history['accuracy']\n",
        "loss = history.history['loss']\n",
        "\n",
        "epochs = range(len(acc))\n",
        "\n",
        "plt.plot(epochs, acc, 'b', label='Training accuracy')\n",
        "plt.title('Training accuracy')\n",
        "\n",
        "plt.figure()\n",
        "\n",
        "plt.plot(epochs, loss, 'b', label='Training Loss')\n",
        "plt.title('Training loss')\n",
        "plt.legend()\n",
        "\n",
        "plt.show()"
      ],
      "execution_count": 13,
      "outputs": [
        {
          "output_type": "display_data",
          "data": {
            "image/png": "[encoded data removed]",
            "text/plain": [
              "<Figure size 432x288 with 1 Axes>"
            ]
          },
          "metadata": {
            "tags": [],
            "needs_background": "light"
          }
        },
        {
          "output_type": "display_data",
          "data": {
            "image/png": "[encoded data removed]",
            "text/plain": [
              "<Figure size 432x288 with 1 Axes>"
            ]
          },
          "metadata": {
            "tags": [],
            "needs_background": "light"
          }
        }
      ]
    },
    {
      "cell_type": "code",
      "metadata": {
        "colab_type": "code",
        "id": "6Vc6PHgxa6Hm",
        "colab": {
          "base_uri": "https://localhost:8080/",
          "height": 55
        },
        "outputId": "837baa16-83b2-4fbf-a11c-869f69100dda"
      },
      "source": [
        "seed_text = \"dog\"\n",
        "next_words = 30\n",
        "  \n",
        "for _ in range(next_words):\n",
        "\ttoken_list = tokenizer.texts_to_sequences([seed_text])[0]\n",
        "\ttoken_list = pad_sequences([token_list], maxlen=max_sequence_len-1, padding='pre')\n",
        "\tpredicted = model.predict_classes(token_list, verbose=0)\n",
        "\toutput_word = \"\"\n",
        "\tfor word, index in tokenizer.word_index.items():\n",
        "\t\tif index == predicted:\n",
        "\t\t\toutput_word = word\n",
        "\t\t\tbreak\n",
        "\tseed_text += \" \" + output_word\n",
        "print(seed_text)"
      ],
      "execution_count": 26,
      "outputs": [
        {
          "output_type": "stream",
          "text": [
            "dog fuck 'cause i am dead or whether for gettin' and abusing a vibe when i speak in tongues let each other's mind that i can do it again i'm sorry\n"
          ],
          "name": "stdout"
        }
      ]
    },
    {
      "cell_type": "code",
      "metadata": {
        "id": "P2u6A-i8G07Z",
        "colab_type": "code",
        "colab": {}
      },
      "source": [
        ""
      ],
      "execution_count": 0,
      "outputs": []
    }
  ]
}