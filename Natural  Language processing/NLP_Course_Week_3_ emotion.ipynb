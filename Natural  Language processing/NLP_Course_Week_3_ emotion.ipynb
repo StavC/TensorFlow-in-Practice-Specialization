{
  "nbformat": 4,
  "nbformat_minor": 0,
  "metadata": {
    "accelerator": "GPU",
    "colab": {
      "name": "NLP Course - Week 3 Exercise Question.ipynb",
      "provenance": []
    },
    "kernelspec": {
      "display_name": "Python 3",
      "name": "python3"
    }
  },
  "cells": [
    {
      "cell_type": "code",
      "metadata": {
        "id": "zX4Kg8DUTKWO",
        "colab_type": "code",
        "colab": {}
      },
      "source": [
        "#@title Licensed under the Apache License, Version 2.0 (the \"License\");\n",
        "# you may not use this file except in compliance with the License.\n",
        "# You may obtain a copy of the License at\n",
        "#\n",
        "# https://www.apache.org/licenses/LICENSE-2.0\n",
        "#\n",
        "# Unless required by applicable law or agreed to in writing, software\n",
        "# distributed under the License is distributed on an \"AS IS\" BASIS,\n",
        "# WITHOUT WARRANTIES OR CONDITIONS OF ANY KIND, either express or implied.\n",
        "# See the License for the specific language governing permissions and\n",
        "# limitations under the License."
      ],
      "execution_count": 0,
      "outputs": []
    },
    {
      "cell_type": "code",
      "metadata": {
        "colab_type": "code",
        "id": "hmA6EzkQJ5jt",
        "colab": {}
      },
      "source": [
        "import json\n",
        "import tensorflow as tf\n",
        "import csv\n",
        "import random\n",
        "import numpy as np\n",
        "\n",
        "from tensorflow.keras.preprocessing.text import Tokenizer\n",
        "from tensorflow.keras.preprocessing.sequence import pad_sequences\n",
        "from tensorflow.keras.utils import to_categorical\n",
        "from tensorflow.keras import regularizers\n",
        "\n",
        "\n",
        "embedding_dim = 100\n",
        "max_length = 16\n",
        "trunc_type='post'\n",
        "padding_type='post'\n",
        "oov_tok = \"<OOV>\"\n",
        "training_size= 160000 #Your dataset size here. Experiment using smaller values (i.e. 16000), but don't forget to train on at least 160000 to see the best effects\n",
        "test_portion=.1\n",
        "\n",
        "corpus = []\n"
      ],
      "execution_count": 0,
      "outputs": []
    },
    {
      "cell_type": "code",
      "metadata": {
        "colab_type": "code",
        "id": "bM0l_dORKqE0",
        "outputId": "246a7827-6541-4973-98f8-afa56995a91d",
        "colab": {
          "base_uri": "https://localhost:8080/",
          "height": 233
        }
      },
      "source": [
        "# Note that I cleaned the Stanford dataset to remove LATIN1 encoding to make it easier for Python CSV reader\n",
        "# You can do that yourself with:\n",
        "# iconv -f LATIN1 -t UTF8 training.1600000.processed.noemoticon.csv -o training_cleaned.csv\n",
        "# I then hosted it on my site to make it easier to use in this notebook\n",
        "\n",
        "!wget --no-check-certificate \\\n",
        "    https://storage.googleapis.com/laurencemoroney-blog.appspot.com/training_cleaned.csv \\\n",
        "    -O /tmp/training_cleaned.csv\n",
        "\n",
        "num_sentences = 0\n",
        "\n",
        "with open(\"/tmp/training_cleaned.csv\") as csvfile:\n",
        "    reader = csv.reader(csvfile, delimiter=',')\n",
        "    for row in reader:\n",
        "      \n",
        "      # Your Code here. Create list items where the first item is the text, found in row[5], and the second is the label. Note that the label is a '0' or a '4' in the text. When it's the former, make\n",
        "      # your label to be 0, otherwise 1. Keep a count of the number of sentences in num_sentences\n",
        "        list_item=[]\n",
        "        list_item.append(row[5])\n",
        "        this_label=row[0]\n",
        "        if this_label=='0':\n",
        "            list_item.append(0)\n",
        "        else:\n",
        "            list_item.append(1)\n",
        "        # YOUR CODE HERE\n",
        "        num_sentences = num_sentences + 1\n",
        "        corpus.append(list_item)\n"
      ],
      "execution_count": 3,
      "outputs": [
        {
          "output_type": "stream",
          "text": [
            "--2020-05-31 14:54:27--  https://storage.googleapis.com/laurencemoroney-blog.appspot.com/training_cleaned.csv\n",
            "Resolving storage.googleapis.com (storage.googleapis.com)... 108.177.125.128, 2404:6800:4008:c01::80\n",
            "Connecting to storage.googleapis.com (storage.googleapis.com)|108.177.125.128|:443... connected.\n",
            "HTTP request sent, awaiting response... 200 OK\n",
            "Length: 238942690 (228M) [application/octet-stream]\n",
            "Saving to: ‘/tmp/training_cleaned.csv’\n",
            "\n",
            "/tmp/training_clean 100%[===================>] 227.87M   119MB/s    in 1.9s    \n",
            "\n",
            "2020-05-31 14:54:29 (119 MB/s) - ‘/tmp/training_cleaned.csv’ saved [238942690/238942690]\n",
            "\n"
          ],
          "name": "stdout"
        }
      ]
    },
    {
      "cell_type": "code",
      "metadata": {
        "colab_type": "code",
        "id": "3kxblBUjEUX-",
        "outputId": "11522eca-44db-4608-e5f0-4d1b88046cb8",
        "colab": {
          "base_uri": "https://localhost:8080/",
          "height": 91
        }
      },
      "source": [
        "print(num_sentences)\n",
        "print(len(corpus))\n",
        "print(corpus[1])\n",
        "\n",
        "# Expected Output:\n",
        "# 1600000\n",
        "# 1600000\n",
        "# [\"is upset that he can't update his Facebook by texting it... and might cry as a result  School today also. Blah!\", 0]"
      ],
      "execution_count": 4,
      "outputs": [
        {
          "output_type": "stream",
          "text": [
            "1600000\n",
            "1600000\n",
            "[\"is upset that he can't update his Facebook by texting it... and might cry as a result  School today also. Blah!\", 0]\n"
          ],
          "name": "stdout"
        }
      ]
    },
    {
      "cell_type": "code",
      "metadata": {
        "colab_type": "code",
        "id": "ohOGz24lsNAD",
        "colab": {}
      },
      "source": [
        "sentences=[]\n",
        "labels=[]\n",
        "random.shuffle(corpus)\n",
        "for x in range(training_size):\n",
        "    sentences.append(corpus[x][0])\n",
        "    labels.append(corpus[x][1])\n",
        "\n",
        "\n",
        "tokenizer = Tokenizer()\n",
        "tokenizer.fit_on_texts(sentences)\n",
        "\n",
        "word_index = tokenizer.word_index\n",
        "vocab_size=len(word_index)\n",
        "\n",
        "sequences = tokenizer.texts_to_sequences(sentences)\n",
        "padded = pad_sequences(sequences, maxlen=max_length, padding=padding_type, truncating=trunc_type)\n",
        "\n",
        "split = int(test_portion * training_size)\n",
        "\n",
        "test_sequences = padded[0:split]\n",
        "training_sequences = padded[split:training_size]\n",
        "test_labels = labels[0:split]\n",
        "training_labels = labels[split:training_size]\n",
        "\n",
        "training_sequences = np.array(training_sequences)\n",
        "\n",
        "training_labels = np.array(training_labels)\n",
        "\n",
        "test_sequences = np.array(test_sequences)\n",
        "\n",
        "test_labels = np.array(test_labels)\n",
        "\n",
        "\n"
      ],
      "execution_count": 0,
      "outputs": []
    },
    {
      "cell_type": "code",
      "metadata": {
        "colab_type": "code",
        "id": "gIrtRem1En3N",
        "outputId": "35fc4dc0-0c75-428e-f1eb-f92e4c51e309",
        "colab": {
          "base_uri": "https://localhost:8080/",
          "height": 53
        }
      },
      "source": [
        "print(vocab_size)\n",
        "print(word_index['i'])\n",
        "# Expected Output\n",
        "# 138858\n",
        "# 1"
      ],
      "execution_count": 16,
      "outputs": [
        {
          "output_type": "stream",
          "text": [
            "138493\n",
            "1\n"
          ],
          "name": "stdout"
        }
      ]
    },
    {
      "cell_type": "code",
      "metadata": {
        "colab_type": "code",
        "id": "C1zdgJkusRh0",
        "outputId": "c2480ed3-0099-4b94-f2c8-5c18192618a9",
        "colab": {
          "base_uri": "https://localhost:8080/",
          "height": 233
        }
      },
      "source": [
        "# Note this is the 100 dimension version of GloVe from Stanford\n",
        "# I unzipped and hosted it on my site to make this notebook easier\n",
        "!wget --no-check-certificate \\\n",
        "    https://storage.googleapis.com/laurencemoroney-blog.appspot.com/glove.6B.100d.txt \\\n",
        "    -O /tmp/glove.6B.100d.txt\n",
        "embeddings_index = {};\n",
        "with open('/tmp/glove.6B.100d.txt') as f:\n",
        "    for line in f:\n",
        "        values = line.split();\n",
        "        word = values[0];\n",
        "        coefs = np.asarray(values[1:], dtype='float32');\n",
        "        embeddings_index[word] = coefs;\n",
        "\n",
        "embeddings_matrix = np.zeros((vocab_size+1, embedding_dim));\n",
        "for word, i in word_index.items():\n",
        "    embedding_vector = embeddings_index.get(word);\n",
        "    if embedding_vector is not None:\n",
        "        embeddings_matrix[i] = embedding_vector;"
      ],
      "execution_count": 17,
      "outputs": [
        {
          "output_type": "stream",
          "text": [
            "--2020-05-31 15:00:19--  https://storage.googleapis.com/laurencemoroney-blog.appspot.com/glove.6B.100d.txt\n",
            "Resolving storage.googleapis.com (storage.googleapis.com)... 64.233.189.128, 2404:6800:4008:c05::80\n",
            "Connecting to storage.googleapis.com (storage.googleapis.com)|64.233.189.128|:443... connected.\n",
            "HTTP request sent, awaiting response... 200 OK\n",
            "Length: 347116733 (331M) [text/plain]\n",
            "Saving to: ‘/tmp/glove.6B.100d.txt’\n",
            "\n",
            "/tmp/glove.6B.100d. 100%[===================>] 331.04M  98.5MB/s    in 3.4s    \n",
            "\n",
            "2020-05-31 15:00:22 (98.5 MB/s) - ‘/tmp/glove.6B.100d.txt’ saved [347116733/347116733]\n",
            "\n"
          ],
          "name": "stdout"
        }
      ]
    },
    {
      "cell_type": "code",
      "metadata": {
        "colab_type": "code",
        "id": "71NLk_lpFLNt",
        "outputId": "ac74b3a4-4b2f-4c11-df28-271487789eab",
        "colab": {
          "base_uri": "https://localhost:8080/",
          "height": 35
        }
      },
      "source": [
        "print(len(embeddings_matrix))\n",
        "# Expected Output\n",
        "# 138859"
      ],
      "execution_count": 18,
      "outputs": [
        {
          "output_type": "stream",
          "text": [
            "138494\n"
          ],
          "name": "stdout"
        }
      ]
    },
    {
      "cell_type": "code",
      "metadata": {
        "colab_type": "code",
        "id": "iKKvbuEBOGFz",
        "colab": {
          "base_uri": "https://localhost:8080/",
          "height": 1000
        },
        "outputId": "94204f0d-988e-45f3-9df4-46c3d31b5165"
      },
      "source": [
        "model = tf.keras.Sequential([\n",
        "    tf.keras.layers.Embedding(vocab_size+1, embedding_dim, input_length=max_length, weights=[embeddings_matrix], trainable=False),\n",
        "    # YOUR CODE HERE - experiment with combining different types, such as convolutions and LSTMs\n",
        "    #tf.keras.layers.Conv1D(64, 5, activation='relu'),\n",
        "    #tf.keras.layers.LSTM(64),\n",
        "    #tf.keras.layers.Dense(24, activation='relu'),\n",
        "    #tf.keras.layers.Dense(1, activation='sigmoid')\n",
        "\n",
        "    tf.keras.layers.Dropout(0.2),\n",
        "    tf.keras.layers.Conv1D(64, 5, activation='relu'),\n",
        "    tf.keras.layers.MaxPooling1D(pool_size=4),\n",
        "    tf.keras.layers.LSTM(64),\n",
        "    tf.keras.layers.Dense(1, activation='sigmoid')\n",
        "    \n",
        "])\n",
        "model.compile(loss='binary_crossentropy',optimizer='adam',metrics=['accuracy'])\n",
        "model.summary()\n",
        "\n",
        "num_epochs = 50\n",
        "history = model.fit(training_sequences, training_labels, epochs=num_epochs, validation_data=(test_sequences, test_labels), verbose=2)\n",
        "\n",
        "print(\"Training Complete\")\n"
      ],
      "execution_count": 21,
      "outputs": [
        {
          "output_type": "stream",
          "text": [
            "Model: \"sequential_4\"\n",
            "_________________________________________________________________\n",
            "Layer (type)                 Output Shape              Param #   \n",
            "=================================================================\n",
            "embedding_4 (Embedding)      (None, 16, 100)           13849400  \n",
            "_________________________________________________________________\n",
            "dropout (Dropout)            (None, 16, 100)           0         \n",
            "_________________________________________________________________\n",
            "conv1d_4 (Conv1D)            (None, 12, 64)            32064     \n",
            "_________________________________________________________________\n",
            "max_pooling1d (MaxPooling1D) (None, 3, 64)             0         \n",
            "_________________________________________________________________\n",
            "lstm_4 (LSTM)                (None, 64)                33024     \n",
            "_________________________________________________________________\n",
            "dense_8 (Dense)              (None, 1)                 65        \n",
            "=================================================================\n",
            "Total params: 13,914,553\n",
            "Trainable params: 65,153\n",
            "Non-trainable params: 13,849,400\n",
            "_________________________________________________________________\n",
            "Epoch 1/50\n",
            "4500/4500 - 22s - loss: 0.5676 - accuracy: 0.6964 - val_loss: 0.5237 - val_accuracy: 0.7369\n",
            "Epoch 2/50\n",
            "4500/4500 - 21s - loss: 0.5270 - accuracy: 0.7318 - val_loss: 0.5327 - val_accuracy: 0.7266\n",
            "Epoch 3/50\n",
            "4500/4500 - 21s - loss: 0.5112 - accuracy: 0.7432 - val_loss: 0.5169 - val_accuracy: 0.7397\n",
            "Epoch 4/50\n",
            "4500/4500 - 21s - loss: 0.4991 - accuracy: 0.7513 - val_loss: 0.5037 - val_accuracy: 0.7517\n",
            "Epoch 5/50\n",
            "4500/4500 - 20s - loss: 0.4907 - accuracy: 0.7555 - val_loss: 0.4991 - val_accuracy: 0.7554\n",
            "Epoch 6/50\n",
            "4500/4500 - 21s - loss: 0.4833 - accuracy: 0.7617 - val_loss: 0.5004 - val_accuracy: 0.7520\n",
            "Epoch 7/50\n",
            "4500/4500 - 21s - loss: 0.4768 - accuracy: 0.7654 - val_loss: 0.4967 - val_accuracy: 0.7548\n",
            "Epoch 8/50\n",
            "4500/4500 - 21s - loss: 0.4734 - accuracy: 0.7688 - val_loss: 0.5082 - val_accuracy: 0.7501\n",
            "Epoch 9/50\n",
            "4500/4500 - 21s - loss: 0.4679 - accuracy: 0.7717 - val_loss: 0.4964 - val_accuracy: 0.7592\n",
            "Epoch 10/50\n",
            "4500/4500 - 21s - loss: 0.4653 - accuracy: 0.7738 - val_loss: 0.5020 - val_accuracy: 0.7540\n",
            "Epoch 11/50\n",
            "4500/4500 - 21s - loss: 0.4599 - accuracy: 0.7767 - val_loss: 0.4999 - val_accuracy: 0.7533\n",
            "Epoch 12/50\n",
            "4500/4500 - 21s - loss: 0.4580 - accuracy: 0.7777 - val_loss: 0.5039 - val_accuracy: 0.7552\n",
            "Epoch 13/50\n",
            "4500/4500 - 21s - loss: 0.4549 - accuracy: 0.7795 - val_loss: 0.5006 - val_accuracy: 0.7534\n",
            "Epoch 14/50\n",
            "4500/4500 - 21s - loss: 0.4528 - accuracy: 0.7806 - val_loss: 0.5013 - val_accuracy: 0.7553\n",
            "Epoch 15/50\n",
            "4500/4500 - 21s - loss: 0.4509 - accuracy: 0.7821 - val_loss: 0.5067 - val_accuracy: 0.7541\n",
            "Epoch 16/50\n",
            "4500/4500 - 21s - loss: 0.4489 - accuracy: 0.7830 - val_loss: 0.5070 - val_accuracy: 0.7531\n",
            "Epoch 17/50\n",
            "4500/4500 - 20s - loss: 0.4474 - accuracy: 0.7843 - val_loss: 0.5039 - val_accuracy: 0.7546\n",
            "Epoch 18/50\n",
            "4500/4500 - 21s - loss: 0.4440 - accuracy: 0.7852 - val_loss: 0.5068 - val_accuracy: 0.7508\n",
            "Epoch 19/50\n",
            "4500/4500 - 20s - loss: 0.4428 - accuracy: 0.7874 - val_loss: 0.5078 - val_accuracy: 0.7523\n",
            "Epoch 20/50\n",
            "4500/4500 - 20s - loss: 0.4427 - accuracy: 0.7872 - val_loss: 0.5077 - val_accuracy: 0.7506\n",
            "Epoch 21/50\n",
            "4500/4500 - 21s - loss: 0.4398 - accuracy: 0.7899 - val_loss: 0.5087 - val_accuracy: 0.7558\n",
            "Epoch 22/50\n",
            "4500/4500 - 21s - loss: 0.4391 - accuracy: 0.7888 - val_loss: 0.5080 - val_accuracy: 0.7535\n",
            "Epoch 23/50\n",
            "4500/4500 - 21s - loss: 0.4398 - accuracy: 0.7888 - val_loss: 0.5155 - val_accuracy: 0.7501\n",
            "Epoch 24/50\n",
            "4500/4500 - 21s - loss: 0.4381 - accuracy: 0.7897 - val_loss: 0.5142 - val_accuracy: 0.7514\n",
            "Epoch 25/50\n",
            "4500/4500 - 21s - loss: 0.4370 - accuracy: 0.7902 - val_loss: 0.5147 - val_accuracy: 0.7520\n",
            "Epoch 26/50\n",
            "4500/4500 - 20s - loss: 0.4365 - accuracy: 0.7910 - val_loss: 0.5086 - val_accuracy: 0.7519\n",
            "Epoch 27/50\n",
            "4500/4500 - 21s - loss: 0.4360 - accuracy: 0.7910 - val_loss: 0.5136 - val_accuracy: 0.7501\n",
            "Epoch 28/50\n",
            "4500/4500 - 21s - loss: 0.4362 - accuracy: 0.7919 - val_loss: 0.5120 - val_accuracy: 0.7548\n",
            "Epoch 29/50\n",
            "4500/4500 - 21s - loss: 0.4342 - accuracy: 0.7920 - val_loss: 0.5113 - val_accuracy: 0.7551\n",
            "Epoch 30/50\n",
            "4500/4500 - 21s - loss: 0.4340 - accuracy: 0.7923 - val_loss: 0.5168 - val_accuracy: 0.7528\n",
            "Epoch 31/50\n",
            "4500/4500 - 21s - loss: 0.4334 - accuracy: 0.7924 - val_loss: 0.5125 - val_accuracy: 0.7514\n",
            "Epoch 32/50\n",
            "4500/4500 - 21s - loss: 0.4325 - accuracy: 0.7927 - val_loss: 0.5141 - val_accuracy: 0.7496\n",
            "Epoch 33/50\n",
            "4500/4500 - 20s - loss: 0.4297 - accuracy: 0.7953 - val_loss: 0.5145 - val_accuracy: 0.7498\n",
            "Epoch 34/50\n",
            "4500/4500 - 21s - loss: 0.4308 - accuracy: 0.7945 - val_loss: 0.5173 - val_accuracy: 0.7523\n",
            "Epoch 35/50\n",
            "4500/4500 - 20s - loss: 0.4316 - accuracy: 0.7935 - val_loss: 0.5129 - val_accuracy: 0.7495\n",
            "Epoch 36/50\n",
            "4500/4500 - 20s - loss: 0.4301 - accuracy: 0.7944 - val_loss: 0.5194 - val_accuracy: 0.7531\n",
            "Epoch 37/50\n",
            "4500/4500 - 21s - loss: 0.4291 - accuracy: 0.7954 - val_loss: 0.5183 - val_accuracy: 0.7454\n",
            "Epoch 38/50\n",
            "4500/4500 - 21s - loss: 0.4297 - accuracy: 0.7943 - val_loss: 0.5210 - val_accuracy: 0.7509\n",
            "Epoch 39/50\n",
            "4500/4500 - 21s - loss: 0.4287 - accuracy: 0.7947 - val_loss: 0.5177 - val_accuracy: 0.7512\n",
            "Epoch 40/50\n",
            "4500/4500 - 21s - loss: 0.4294 - accuracy: 0.7945 - val_loss: 0.5153 - val_accuracy: 0.7531\n",
            "Epoch 41/50\n",
            "4500/4500 - 20s - loss: 0.4286 - accuracy: 0.7965 - val_loss: 0.5167 - val_accuracy: 0.7493\n",
            "Epoch 42/50\n",
            "4500/4500 - 21s - loss: 0.4276 - accuracy: 0.7968 - val_loss: 0.5182 - val_accuracy: 0.7481\n",
            "Epoch 43/50\n",
            "4500/4500 - 21s - loss: 0.4277 - accuracy: 0.7959 - val_loss: 0.5175 - val_accuracy: 0.7527\n",
            "Epoch 44/50\n",
            "4500/4500 - 20s - loss: 0.4269 - accuracy: 0.7965 - val_loss: 0.5194 - val_accuracy: 0.7498\n",
            "Epoch 45/50\n",
            "4500/4500 - 21s - loss: 0.4276 - accuracy: 0.7964 - val_loss: 0.5124 - val_accuracy: 0.7493\n",
            "Epoch 46/50\n",
            "4500/4500 - 22s - loss: 0.4275 - accuracy: 0.7947 - val_loss: 0.5186 - val_accuracy: 0.7551\n",
            "Epoch 47/50\n",
            "4500/4500 - 20s - loss: 0.4256 - accuracy: 0.7985 - val_loss: 0.5162 - val_accuracy: 0.7521\n",
            "Epoch 48/50\n",
            "4500/4500 - 21s - loss: 0.4262 - accuracy: 0.7958 - val_loss: 0.5151 - val_accuracy: 0.7494\n",
            "Epoch 49/50\n",
            "4500/4500 - 20s - loss: 0.4260 - accuracy: 0.7968 - val_loss: 0.5121 - val_accuracy: 0.7523\n",
            "Epoch 50/50\n",
            "4500/4500 - 20s - loss: 0.4252 - accuracy: 0.7975 - val_loss: 0.5171 - val_accuracy: 0.7525\n",
            "Training Complete\n"
          ],
          "name": "stdout"
        }
      ]
    },
    {
      "cell_type": "markdown",
      "metadata": {
        "id": "xnS4H4qvVe8N",
        "colab_type": "text"
      },
      "source": [
        "4500/4500 - 26s - loss: 0.1624 - accuracy: 0.9330 - val_loss: 1.1370 - val_accuracy: 0.7179\n"
      ]
    },
    {
      "cell_type": "code",
      "metadata": {
        "colab_type": "code",
        "id": "qxju4ItJKO8F",
        "colab": {
          "base_uri": "https://localhost:8080/",
          "height": 608
        },
        "outputId": "dfce706b-4e90-4621-dcbc-db4218de6b08"
      },
      "source": [
        "import matplotlib.image  as mpimg\n",
        "import matplotlib.pyplot as plt\n",
        "\n",
        "#-----------------------------------------------------------\n",
        "# Retrieve a list of list results on training and test data\n",
        "# sets for each training epoch\n",
        "#-----------------------------------------------------------\n",
        "acc=history.history['accuracy']\n",
        "val_acc=history.history['val_accuracy']\n",
        "loss=history.history['loss']\n",
        "val_loss=history.history['val_loss']\n",
        "\n",
        "epochs=range(len(acc)) # Get number of epochs\n",
        "\n",
        "#------------------------------------------------\n",
        "# Plot training and validation accuracy per epoch\n",
        "#------------------------------------------------\n",
        "plt.plot(epochs, acc, 'r')\n",
        "plt.plot(epochs, val_acc, 'b')\n",
        "plt.title('Training and validation accuracy')\n",
        "plt.xlabel(\"Epochs\")\n",
        "plt.ylabel(\"Accuracy\")\n",
        "plt.legend([\"Accuracy\", \"Validation Accuracy\"])\n",
        "\n",
        "plt.figure()\n",
        "\n",
        "#------------------------------------------------\n",
        "# Plot training and validation loss per epoch\n",
        "#------------------------------------------------\n",
        "plt.plot(epochs, loss, 'r')\n",
        "plt.plot(epochs, val_loss, 'b')\n",
        "plt.title('Training and validation loss')\n",
        "plt.xlabel(\"Epochs\")\n",
        "plt.ylabel(\"Loss\")\n",
        "plt.legend([\"Loss\", \"Validation Loss\"])\n",
        "\n",
        "plt.figure()\n",
        "\n",
        "\n",
        "# Expected Output\n",
        "# A chart where the validation loss does not increase sharply!"
      ],
      "execution_count": 22,
      "outputs": [
        {
          "output_type": "execute_result",
          "data": {
            "text/plain": [
              "<Figure size 432x288 with 0 Axes>"
            ]
          },
          "metadata": {
            "tags": []
          },
          "execution_count": 22
        },
        {
          "output_type": "display_data",
          "data": {
            "image/png": "[encoded data removed]",
            "text/plain": [
              "<Figure size 432x288 with 1 Axes>"
            ]
          },
          "metadata": {
            "tags": [],
            "needs_background": "light"
          }
        },
        {
          "output_type": "display_data",
          "data": {
            "image/png": "[encoded data removed]",
            "text/plain": [
              "<Figure size 432x288 with 1 Axes>"
            ]
          },
          "metadata": {
            "tags": [],
            "needs_background": "light"
          }
        },
        {
          "output_type": "display_data",
          "data": {
            "text/plain": [
              "<Figure size 432x288 with 0 Axes>"
            ]
          },
          "metadata": {
            "tags": []
          }
        }
      ]
    },
    {
      "cell_type": "code",
      "metadata": {
        "id": "EIMCSgYmP3e4",
        "colab_type": "code",
        "colab": {}
      },
      "source": [
        ""
      ],
      "execution_count": 0,
      "outputs": []
    }
  ]
}